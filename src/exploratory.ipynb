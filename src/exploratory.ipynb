{
 "cells": [
  {
   "cell_type": "code",
   "execution_count": 1,
   "metadata": {},
   "outputs": [
    {
     "name": "stderr",
     "output_type": "stream",
     "text": [
      "/home/jovyan/envs/urano/lib/python3.8/site-packages/tqdm/auto.py:22: TqdmWarning: IProgress not found. Please update jupyter and ipywidgets. See https://ipywidgets.readthedocs.io/en/stable/user_install.html\n",
      "  from .autonotebook import tqdm as notebook_tqdm\n"
     ]
    }
   ],
   "source": [
    "import pandas as pd\n",
    "import numpy as np\n",
    "from src.basic_project import Text_preprocessing\n",
    "from src.basic_project import preprocessing, extract_data"
   ]
  },
  {
   "cell_type": "code",
   "execution_count": 2,
   "metadata": {},
   "outputs": [],
   "source": [
    "texts, labels = extract_data('data/projects.xlsx', 'data/SciVocCodes.xlsx')\n",
    "texts = preprocessing(texts)"
   ]
  },
  {
   "cell_type": "code",
   "execution_count": 3,
   "metadata": {},
   "outputs": [
    {
     "name": "stderr",
     "output_type": "stream",
     "text": [
      "INFO - 15:42:36: adding document #0 to Dictionary<0 unique tokens: []>\n",
      "INFO - 15:42:37: adding document #10000 to Dictionary<59683 unique tokens: ['action', 'affected', 'africa', 'african', 'already']...>\n",
      "INFO - 15:42:38: adding document #20000 to Dictionary<90830 unique tokens: ['action', 'affected', 'africa', 'african', 'already']...>\n",
      "INFO - 15:42:40: adding document #30000 to Dictionary<117447 unique tokens: ['action', 'affected', 'africa', 'african', 'already']...>\n",
      "INFO - 15:42:40: built Dictionary<122697 unique tokens: ['action', 'affected', 'africa', 'african', 'already']...> from 32052 documents (total 5701572 corpus positions)\n",
      "INFO - 15:42:40: Dictionary lifecycle event {'msg': \"built Dictionary<122697 unique tokens: ['action', 'affected', 'africa', 'african', 'already']...> from 32052 documents (total 5701572 corpus positions)\", 'datetime': '2023-01-03T15:42:40.416152', 'gensim': '4.3.0', 'python': '3.8.10 | packaged by conda-forge | (default, May 11 2021, 07:01:05) \\n[GCC 9.3.0]', 'platform': 'Linux-5.4.0-89-generic-x86_64-with-glibc2.10', 'event': 'created'}\n",
      "INFO - 15:42:43: collecting document frequencies\n",
      "INFO - 15:42:43: PROGRESS: processing document #0\n",
      "INFO - 15:42:43: PROGRESS: processing document #10000\n",
      "INFO - 15:42:43: PROGRESS: processing document #20000\n",
      "INFO - 15:42:43: PROGRESS: processing document #30000\n",
      "INFO - 15:42:44: TfidfModel lifecycle event {'msg': 'calculated IDF weights for 32052 documents and 122697 features (4076836 matrix non-zeros)', 'datetime': '2023-01-03T15:42:44.014472', 'gensim': '4.3.0', 'python': '3.8.10 | packaged by conda-forge | (default, May 11 2021, 07:01:05) \\n[GCC 9.3.0]', 'platform': 'Linux-5.4.0-89-generic-x86_64-with-glibc2.10', 'event': 'initialize'}\n"
     ]
    }
   ],
   "source": [
    "from gensim.matutils import corpus2dense, corpus2csc\n",
    "from gensim.corpora import Dictionary\n",
    "\n",
    "D = Dictionary([sentence.split(' ') for sentence in texts])\n",
    "n_tokens = len(D)\n",
    "\n",
    "reviews_bow = [D.doc2bow(doc.split(' ')) for doc in texts]\n",
    "\n",
    "from gensim.models import TfidfModel\n",
    "\n",
    "tfidf = TfidfModel(reviews_bow)\n",
    "reviews_tfidf = tfidf[reviews_bow]\n",
    "\n",
    "num_docs = len(reviews_bow)\n",
    "\n",
    "corpus_tfidf_sparse = corpus2csc(reviews_tfidf, num_terms=n_tokens, num_docs=num_docs).T"
   ]
  },
  {
   "cell_type": "code",
   "execution_count": 5,
   "metadata": {},
   "outputs": [],
   "source": [
    "from sklearn import svm\n",
    "from sklearn.model_selection import GridSearchCV, train_test_split\n",
    "\n",
    "corpus_bow_train, corpus_bow_test, y_train, y_test = train_test_split(corpus_tfidf_sparse, labels, test_size=0.1, \n",
    "                                                                      random_state=42)"
   ]
  },
  {
   "cell_type": "code",
   "execution_count": 6,
   "metadata": {},
   "outputs": [
    {
     "data": {
      "text/html": [
       "<style>#sk-container-id-1 {color: black;background-color: white;}#sk-container-id-1 pre{padding: 0;}#sk-container-id-1 div.sk-toggleable {background-color: white;}#sk-container-id-1 label.sk-toggleable__label {cursor: pointer;display: block;width: 100%;margin-bottom: 0;padding: 0.3em;box-sizing: border-box;text-align: center;}#sk-container-id-1 label.sk-toggleable__label-arrow:before {content: \"▸\";float: left;margin-right: 0.25em;color: #696969;}#sk-container-id-1 label.sk-toggleable__label-arrow:hover:before {color: black;}#sk-container-id-1 div.sk-estimator:hover label.sk-toggleable__label-arrow:before {color: black;}#sk-container-id-1 div.sk-toggleable__content {max-height: 0;max-width: 0;overflow: hidden;text-align: left;background-color: #f0f8ff;}#sk-container-id-1 div.sk-toggleable__content pre {margin: 0.2em;color: black;border-radius: 0.25em;background-color: #f0f8ff;}#sk-container-id-1 input.sk-toggleable__control:checked~div.sk-toggleable__content {max-height: 200px;max-width: 100%;overflow: auto;}#sk-container-id-1 input.sk-toggleable__control:checked~label.sk-toggleable__label-arrow:before {content: \"▾\";}#sk-container-id-1 div.sk-estimator input.sk-toggleable__control:checked~label.sk-toggleable__label {background-color: #d4ebff;}#sk-container-id-1 div.sk-label input.sk-toggleable__control:checked~label.sk-toggleable__label {background-color: #d4ebff;}#sk-container-id-1 input.sk-hidden--visually {border: 0;clip: rect(1px 1px 1px 1px);clip: rect(1px, 1px, 1px, 1px);height: 1px;margin: -1px;overflow: hidden;padding: 0;position: absolute;width: 1px;}#sk-container-id-1 div.sk-estimator {font-family: monospace;background-color: #f0f8ff;border: 1px dotted black;border-radius: 0.25em;box-sizing: border-box;margin-bottom: 0.5em;}#sk-container-id-1 div.sk-estimator:hover {background-color: #d4ebff;}#sk-container-id-1 div.sk-parallel-item::after {content: \"\";width: 100%;border-bottom: 1px solid gray;flex-grow: 1;}#sk-container-id-1 div.sk-label:hover label.sk-toggleable__label {background-color: #d4ebff;}#sk-container-id-1 div.sk-serial::before {content: \"\";position: absolute;border-left: 1px solid gray;box-sizing: border-box;top: 0;bottom: 0;left: 50%;z-index: 0;}#sk-container-id-1 div.sk-serial {display: flex;flex-direction: column;align-items: center;background-color: white;padding-right: 0.2em;padding-left: 0.2em;position: relative;}#sk-container-id-1 div.sk-item {position: relative;z-index: 1;}#sk-container-id-1 div.sk-parallel {display: flex;align-items: stretch;justify-content: center;background-color: white;position: relative;}#sk-container-id-1 div.sk-item::before, #sk-container-id-1 div.sk-parallel-item::before {content: \"\";position: absolute;border-left: 1px solid gray;box-sizing: border-box;top: 0;bottom: 0;left: 50%;z-index: -1;}#sk-container-id-1 div.sk-parallel-item {display: flex;flex-direction: column;z-index: 1;position: relative;background-color: white;}#sk-container-id-1 div.sk-parallel-item:first-child::after {align-self: flex-end;width: 50%;}#sk-container-id-1 div.sk-parallel-item:last-child::after {align-self: flex-start;width: 50%;}#sk-container-id-1 div.sk-parallel-item:only-child::after {width: 0;}#sk-container-id-1 div.sk-dashed-wrapped {border: 1px dashed gray;margin: 0 0.4em 0.5em 0.4em;box-sizing: border-box;padding-bottom: 0.4em;background-color: white;}#sk-container-id-1 div.sk-label label {font-family: monospace;font-weight: bold;display: inline-block;line-height: 1.2em;}#sk-container-id-1 div.sk-label-container {text-align: center;}#sk-container-id-1 div.sk-container {/* jupyter's `normalize.less` sets `[hidden] { display: none; }` but bootstrap.min.css set `[hidden] { display: none !important; }` so we also need the `!important` here to be able to override the default hidden behavior on the sphinx rendered scikit-learn.org. See: https://github.com/scikit-learn/scikit-learn/issues/21755 */display: inline-block !important;position: relative;}#sk-container-id-1 div.sk-text-repr-fallback {display: none;}</style><div id=\"sk-container-id-1\" class=\"sk-top-container\"><div class=\"sk-text-repr-fallback\"><pre>GridSearchCV(cv=2, estimator=SVC(class_weight=&#x27;balanced&#x27;), n_jobs=-1,\n",
       "             param_grid={&#x27;C&#x27;: [0.1, 1, 10], &#x27;kernel&#x27;: (&#x27;linear&#x27;, &#x27;rbf&#x27;)})</pre><b>In a Jupyter environment, please rerun this cell to show the HTML representation or trust the notebook. <br />On GitHub, the HTML representation is unable to render, please try loading this page with nbviewer.org.</b></div><div class=\"sk-container\" hidden><div class=\"sk-item sk-dashed-wrapped\"><div class=\"sk-label-container\"><div class=\"sk-label sk-toggleable\"><input class=\"sk-toggleable__control sk-hidden--visually\" id=\"sk-estimator-id-1\" type=\"checkbox\" ><label for=\"sk-estimator-id-1\" class=\"sk-toggleable__label sk-toggleable__label-arrow\">GridSearchCV</label><div class=\"sk-toggleable__content\"><pre>GridSearchCV(cv=2, estimator=SVC(class_weight=&#x27;balanced&#x27;), n_jobs=-1,\n",
       "             param_grid={&#x27;C&#x27;: [0.1, 1, 10], &#x27;kernel&#x27;: (&#x27;linear&#x27;, &#x27;rbf&#x27;)})</pre></div></div></div><div class=\"sk-parallel\"><div class=\"sk-parallel-item\"><div class=\"sk-item\"><div class=\"sk-label-container\"><div class=\"sk-label sk-toggleable\"><input class=\"sk-toggleable__control sk-hidden--visually\" id=\"sk-estimator-id-2\" type=\"checkbox\" ><label for=\"sk-estimator-id-2\" class=\"sk-toggleable__label sk-toggleable__label-arrow\">estimator: SVC</label><div class=\"sk-toggleable__content\"><pre>SVC(class_weight=&#x27;balanced&#x27;)</pre></div></div></div><div class=\"sk-serial\"><div class=\"sk-item\"><div class=\"sk-estimator sk-toggleable\"><input class=\"sk-toggleable__control sk-hidden--visually\" id=\"sk-estimator-id-3\" type=\"checkbox\" ><label for=\"sk-estimator-id-3\" class=\"sk-toggleable__label sk-toggleable__label-arrow\">SVC</label><div class=\"sk-toggleable__content\"><pre>SVC(class_weight=&#x27;balanced&#x27;)</pre></div></div></div></div></div></div></div></div></div></div>"
      ],
      "text/plain": [
       "GridSearchCV(cv=2, estimator=SVC(class_weight='balanced'), n_jobs=-1,\n",
       "             param_grid={'C': [0.1, 1, 10], 'kernel': ('linear', 'rbf')})"
      ]
     },
     "execution_count": 6,
     "metadata": {},
     "output_type": "execute_result"
    }
   ],
   "source": [
    "grid_param = {'kernel':('linear', 'rbf'), 'C':[0.1 ,1, 10]}\n",
    "svc = svm.SVC(class_weight='balanced')\n",
    "bow_grid = GridSearchCV(svc, grid_param, refit=True, cv = 2, n_jobs=-1)\n",
    "bow_grid.fit(corpus_bow_train, y_train)"
   ]
  },
  {
   "cell_type": "code",
   "execution_count": 7,
   "metadata": {},
   "outputs": [
    {
     "data": {
      "text/plain": [
       "0.6681222707423581"
      ]
     },
     "execution_count": 7,
     "metadata": {},
     "output_type": "execute_result"
    }
   ],
   "source": [
    "bow_grid.score(corpus_bow_test,y_test)"
   ]
  },
  {
   "cell_type": "code",
   "execution_count": 8,
   "metadata": {},
   "outputs": [
    {
     "name": "stdout",
     "output_type": "stream",
     "text": [
      "0.6138700940248253\n"
     ]
    }
   ],
   "source": [
    "from sklearn.metrics import balanced_accuracy_score\n",
    "\n",
    "y_pred = bow_grid.predict(corpus_bow_test)\n",
    "print(balanced_accuracy_score(y_pred, y_test))"
   ]
  },
  {
   "cell_type": "code",
   "execution_count": 10,
   "metadata": {},
   "outputs": [
    {
     "name": "stdout",
     "output_type": "stream",
     "text": [
      "0.6597171278603078\n"
     ]
    }
   ],
   "source": [
    "print(balanced_accuracy_score(y_test, y_pred))"
   ]
  },
  {
   "cell_type": "code",
   "execution_count": 11,
   "metadata": {},
   "outputs": [
    {
     "name": "stdout",
     "output_type": "stream",
     "text": [
      "              precision    recall  f1-score   support\n",
      "\n",
      "           0       0.61      0.82      0.70       488\n",
      "           1       0.79      0.60      0.68      1326\n",
      "           2       0.61      0.73      0.67       659\n",
      "           3       0.38      0.41      0.40        73\n",
      "           4       0.64      0.64      0.64       549\n",
      "           5       0.65      0.76      0.70       111\n",
      "\n",
      "    accuracy                           0.67      3206\n",
      "   macro avg       0.61      0.66      0.63      3206\n",
      "weighted avg       0.69      0.67      0.67      3206\n",
      "\n"
     ]
    }
   ],
   "source": [
    "from sklearn.metrics import classification_report\n",
    "\n",
    "print(classification_report(y_test, y_pred))"
   ]
  },
  {
   "cell_type": "code",
   "execution_count": 14,
   "metadata": {},
   "outputs": [
    {
     "data": {
      "text/plain": [
       "<gensim.interfaces.TransformedCorpus at 0x7f38a84049a0>"
      ]
     },
     "execution_count": 14,
     "metadata": {},
     "output_type": "execute_result"
    }
   ],
   "source": [
    "reviews_tfidf"
   ]
  },
  {
   "cell_type": "code",
   "execution_count": 19,
   "metadata": {},
   "outputs": [],
   "source": [
    "import torch\n",
    "import torchtext\n",
    "from torch.utils.data import Dataset, DataLoader\n",
    "\n",
    "class CustomDataset(Dataset):\n",
    "    \n",
    "    def __init__(self, texts, labels):\n",
    "        self.texts = texts\n",
    "        self.labels = labels\n",
    "        self.glove = torchtext.vocab.GloVe(name='6B', dim=300)\n",
    "        \n",
    "    def __len__(self):\n",
    "        return len(self.texts)\n",
    "    \n",
    "    def __getitem__(self, index):\n",
    "        \n",
    "        if self.texts[index] == None:\n",
    "            embeddings = torch.zeros(200, 300)\n",
    "        else:\n",
    "            embeddings = self.glove.get_vecs_by_tokens(self.texts[index].split(' '), lower_case_backup=True)\n",
    "        if embeddings.shape[0] > 200:\n",
    "            embeddings = embeddings[:200]\n",
    "        else:\n",
    "            embeddings = torch.cat((torch.zeros(200-embeddings.shape[0], 300), embeddings), dim=0)\n",
    "            \n",
    "        return embeddings, int(self.labels[index])"
   ]
  },
  {
   "cell_type": "code",
   "execution_count": 20,
   "metadata": {},
   "outputs": [
    {
     "name": "stderr",
     "output_type": "stream",
     "text": [
      "INFO - 09:39:22: Loading vectors from .vector_cache/glove.6B.300d.txt.pt\n"
     ]
    }
   ],
   "source": [
    "dataset = CustomDataset(projects['title'], projects['euroSciVocCode'].to_numpy())\n",
    "train_dataset, val_dataset = torch.utils.data.random_split(dataset, [0.9, 0.1])\n",
    "train_dataloader = DataLoader(train_dataset, batch_size=128, shuffle=True)\n",
    "val_dataloader = DataLoader(val_dataset, batch_size=128, shuffle=True)"
   ]
  },
  {
   "cell_type": "code",
   "execution_count": 28,
   "metadata": {},
   "outputs": [],
   "source": [
    "class Model(torch.nn.Module):\n",
    "    \n",
    "    def __init__(self):\n",
    "        \n",
    "        super().__init__()\n",
    "        \n",
    "        self.lstm = torch.nn.LSTM(300, 100, 1, batch_first=True)\n",
    "        self.mlp = torch.nn.Linear(100, 6)\n",
    "        \n",
    "    def forward(self, inputs):\n",
    "        outputs, _ = self.lstm(inputs)\n",
    "        outputs = self.mlp(outputs[:, -1, :])\n",
    "        \n",
    "        return outputs\n",
    "    "
   ]
  },
  {
   "cell_type": "code",
   "execution_count": 29,
   "metadata": {},
   "outputs": [
    {
     "data": {
      "text/plain": [
       "device(type='cuda')"
      ]
     },
     "execution_count": 29,
     "metadata": {},
     "output_type": "execute_result"
    }
   ],
   "source": [
    "device = torch.device('cuda') if torch.cuda.is_available() else torch.device('cpu')\n",
    "device"
   ]
  },
  {
   "cell_type": "code",
   "execution_count": 30,
   "metadata": {},
   "outputs": [],
   "source": [
    "def accuracy(logits: torch.Tensor, labels: torch.Tensor) -> float:\n",
    "    \"\"\"\n",
    "    This method computes accuracy from logits and labels\n",
    "    \n",
    "    Parameters\n",
    "    ----------\n",
    "    logits : torch.Tensor\n",
    "        batch of logits. Dimensions: [batch, number of classes]\n",
    "    labels : torch.Tensor\n",
    "        batch of labels. Dimensions: [batch]\n",
    "        \n",
    "    Returns\n",
    "    -------\n",
    "    float\n",
    "        accuracy of predictions\n",
    "    \"\"\"\n",
    "\n",
    "    # compute predictions\n",
    "    predictions = logits.argmax(1).type_as(labels)\n",
    "\n",
    "    # compute accuracy from predictions\n",
    "    result = float(predictions.eq(labels).float().mean().cpu().detach().numpy())\n",
    "\n",
    "    return result"
   ]
  },
  {
   "cell_type": "code",
   "execution_count": 31,
   "metadata": {},
   "outputs": [
    {
     "data": {
      "text/plain": [
       "tensor([1.0387, 0.4266, 0.8065, 8.2694, 0.8960, 4.6291])"
      ]
     },
     "execution_count": 31,
     "metadata": {},
     "output_type": "execute_result"
    }
   ],
   "source": [
    "import sklearn\n",
    "y = projects['euroSciVocCode'].to_numpy()\n",
    "class_weights=sklearn.utils.class_weight.compute_class_weight('balanced',classes=np.unique(y), y=y)\n",
    "class_weights=torch.tensor(class_weights,dtype=torch.float)\n",
    "class_weights"
   ]
  },
  {
   "cell_type": "code",
   "execution_count": 34,
   "metadata": {},
   "outputs": [
    {
     "name": "stdout",
     "output_type": "stream",
     "text": [
      "train loss: 1.1552707181040165\n",
      "val loss: 1.115949197457387\n",
      "train accuracy: 0.5490807698363751\n",
      "val accuracy: 0.5644831731915474\n"
     ]
    },
    {
     "ename": "KeyboardInterrupt",
     "evalue": "",
     "output_type": "error",
     "traceback": [
      "\u001b[0;31m---------------------------------------------------------------------------\u001b[0m",
      "\u001b[0;31mKeyboardInterrupt\u001b[0m                         Traceback (most recent call last)",
      "Cell \u001b[0;32mIn[34], line 14\u001b[0m\n\u001b[1;32m     10\u001b[0m val_accuracies \u001b[39m=\u001b[39m []\n\u001b[1;32m     12\u001b[0m model\u001b[39m.\u001b[39mtrain()\n\u001b[0;32m---> 14\u001b[0m \u001b[39mfor\u001b[39;00m texts, labels \u001b[39min\u001b[39;00m train_dataloader:\n\u001b[1;32m     15\u001b[0m     texts \u001b[39m=\u001b[39m texts\u001b[39m.\u001b[39mto(device)\n\u001b[1;32m     16\u001b[0m     labels \u001b[39m=\u001b[39m labels\u001b[39m.\u001b[39mto(device)\n",
      "File \u001b[0;32m~/envs/urano/lib/python3.8/site-packages/torch/utils/data/dataloader.py:628\u001b[0m, in \u001b[0;36m_BaseDataLoaderIter.__next__\u001b[0;34m(self)\u001b[0m\n\u001b[1;32m    625\u001b[0m \u001b[39mif\u001b[39;00m \u001b[39mself\u001b[39m\u001b[39m.\u001b[39m_sampler_iter \u001b[39mis\u001b[39;00m \u001b[39mNone\u001b[39;00m:\n\u001b[1;32m    626\u001b[0m     \u001b[39m# TODO(https://github.com/pytorch/pytorch/issues/76750)\u001b[39;00m\n\u001b[1;32m    627\u001b[0m     \u001b[39mself\u001b[39m\u001b[39m.\u001b[39m_reset()  \u001b[39m# type: ignore[call-arg]\u001b[39;00m\n\u001b[0;32m--> 628\u001b[0m data \u001b[39m=\u001b[39m \u001b[39mself\u001b[39;49m\u001b[39m.\u001b[39;49m_next_data()\n\u001b[1;32m    629\u001b[0m \u001b[39mself\u001b[39m\u001b[39m.\u001b[39m_num_yielded \u001b[39m+\u001b[39m\u001b[39m=\u001b[39m \u001b[39m1\u001b[39m\n\u001b[1;32m    630\u001b[0m \u001b[39mif\u001b[39;00m \u001b[39mself\u001b[39m\u001b[39m.\u001b[39m_dataset_kind \u001b[39m==\u001b[39m _DatasetKind\u001b[39m.\u001b[39mIterable \u001b[39mand\u001b[39;00m \\\n\u001b[1;32m    631\u001b[0m         \u001b[39mself\u001b[39m\u001b[39m.\u001b[39m_IterableDataset_len_called \u001b[39mis\u001b[39;00m \u001b[39mnot\u001b[39;00m \u001b[39mNone\u001b[39;00m \u001b[39mand\u001b[39;00m \\\n\u001b[1;32m    632\u001b[0m         \u001b[39mself\u001b[39m\u001b[39m.\u001b[39m_num_yielded \u001b[39m>\u001b[39m \u001b[39mself\u001b[39m\u001b[39m.\u001b[39m_IterableDataset_len_called:\n",
      "File \u001b[0;32m~/envs/urano/lib/python3.8/site-packages/torch/utils/data/dataloader.py:671\u001b[0m, in \u001b[0;36m_SingleProcessDataLoaderIter._next_data\u001b[0;34m(self)\u001b[0m\n\u001b[1;32m    669\u001b[0m \u001b[39mdef\u001b[39;00m \u001b[39m_next_data\u001b[39m(\u001b[39mself\u001b[39m):\n\u001b[1;32m    670\u001b[0m     index \u001b[39m=\u001b[39m \u001b[39mself\u001b[39m\u001b[39m.\u001b[39m_next_index()  \u001b[39m# may raise StopIteration\u001b[39;00m\n\u001b[0;32m--> 671\u001b[0m     data \u001b[39m=\u001b[39m \u001b[39mself\u001b[39;49m\u001b[39m.\u001b[39;49m_dataset_fetcher\u001b[39m.\u001b[39;49mfetch(index)  \u001b[39m# may raise StopIteration\u001b[39;00m\n\u001b[1;32m    672\u001b[0m     \u001b[39mif\u001b[39;00m \u001b[39mself\u001b[39m\u001b[39m.\u001b[39m_pin_memory:\n\u001b[1;32m    673\u001b[0m         data \u001b[39m=\u001b[39m _utils\u001b[39m.\u001b[39mpin_memory\u001b[39m.\u001b[39mpin_memory(data, \u001b[39mself\u001b[39m\u001b[39m.\u001b[39m_pin_memory_device)\n",
      "File \u001b[0;32m~/envs/urano/lib/python3.8/site-packages/torch/utils/data/_utils/fetch.py:58\u001b[0m, in \u001b[0;36m_MapDatasetFetcher.fetch\u001b[0;34m(self, possibly_batched_index)\u001b[0m\n\u001b[1;32m     56\u001b[0m         data \u001b[39m=\u001b[39m \u001b[39mself\u001b[39m\u001b[39m.\u001b[39mdataset\u001b[39m.\u001b[39m__getitems__(possibly_batched_index)\n\u001b[1;32m     57\u001b[0m     \u001b[39melse\u001b[39;00m:\n\u001b[0;32m---> 58\u001b[0m         data \u001b[39m=\u001b[39m [\u001b[39mself\u001b[39m\u001b[39m.\u001b[39mdataset[idx] \u001b[39mfor\u001b[39;00m idx \u001b[39min\u001b[39;00m possibly_batched_index]\n\u001b[1;32m     59\u001b[0m \u001b[39melse\u001b[39;00m:\n\u001b[1;32m     60\u001b[0m     data \u001b[39m=\u001b[39m \u001b[39mself\u001b[39m\u001b[39m.\u001b[39mdataset[possibly_batched_index]\n",
      "File \u001b[0;32m~/envs/urano/lib/python3.8/site-packages/torch/utils/data/_utils/fetch.py:58\u001b[0m, in \u001b[0;36m<listcomp>\u001b[0;34m(.0)\u001b[0m\n\u001b[1;32m     56\u001b[0m         data \u001b[39m=\u001b[39m \u001b[39mself\u001b[39m\u001b[39m.\u001b[39mdataset\u001b[39m.\u001b[39m__getitems__(possibly_batched_index)\n\u001b[1;32m     57\u001b[0m     \u001b[39melse\u001b[39;00m:\n\u001b[0;32m---> 58\u001b[0m         data \u001b[39m=\u001b[39m [\u001b[39mself\u001b[39;49m\u001b[39m.\u001b[39;49mdataset[idx] \u001b[39mfor\u001b[39;00m idx \u001b[39min\u001b[39;00m possibly_batched_index]\n\u001b[1;32m     59\u001b[0m \u001b[39melse\u001b[39;00m:\n\u001b[1;32m     60\u001b[0m     data \u001b[39m=\u001b[39m \u001b[39mself\u001b[39m\u001b[39m.\u001b[39mdataset[possibly_batched_index]\n",
      "File \u001b[0;32m~/envs/urano/lib/python3.8/site-packages/torch/utils/data/dataset.py:295\u001b[0m, in \u001b[0;36mSubset.__getitem__\u001b[0;34m(self, idx)\u001b[0m\n\u001b[1;32m    293\u001b[0m \u001b[39mif\u001b[39;00m \u001b[39misinstance\u001b[39m(idx, \u001b[39mlist\u001b[39m):\n\u001b[1;32m    294\u001b[0m     \u001b[39mreturn\u001b[39;00m \u001b[39mself\u001b[39m\u001b[39m.\u001b[39mdataset[[\u001b[39mself\u001b[39m\u001b[39m.\u001b[39mindices[i] \u001b[39mfor\u001b[39;00m i \u001b[39min\u001b[39;00m idx]]\n\u001b[0;32m--> 295\u001b[0m \u001b[39mreturn\u001b[39;00m \u001b[39mself\u001b[39;49m\u001b[39m.\u001b[39;49mdataset[\u001b[39mself\u001b[39;49m\u001b[39m.\u001b[39;49mindices[idx]]\n",
      "Cell \u001b[0;32mIn[19], line 20\u001b[0m, in \u001b[0;36mCustomDataset.__getitem__\u001b[0;34m(self, index)\u001b[0m\n\u001b[1;32m     18\u001b[0m     embeddings \u001b[39m=\u001b[39m torch\u001b[39m.\u001b[39mzeros(\u001b[39m200\u001b[39m, \u001b[39m300\u001b[39m)\n\u001b[1;32m     19\u001b[0m \u001b[39melse\u001b[39;00m:\n\u001b[0;32m---> 20\u001b[0m     embeddings \u001b[39m=\u001b[39m \u001b[39mself\u001b[39;49m\u001b[39m.\u001b[39;49mglove\u001b[39m.\u001b[39;49mget_vecs_by_tokens(\u001b[39mself\u001b[39;49m\u001b[39m.\u001b[39;49mtexts[index]\u001b[39m.\u001b[39;49msplit(\u001b[39m'\u001b[39;49m\u001b[39m \u001b[39;49m\u001b[39m'\u001b[39;49m), lower_case_backup\u001b[39m=\u001b[39;49m\u001b[39mTrue\u001b[39;49;00m)\n\u001b[1;32m     21\u001b[0m \u001b[39mif\u001b[39;00m embeddings\u001b[39m.\u001b[39mshape[\u001b[39m0\u001b[39m] \u001b[39m>\u001b[39m \u001b[39m200\u001b[39m:\n\u001b[1;32m     22\u001b[0m     embeddings \u001b[39m=\u001b[39m embeddings[:\u001b[39m200\u001b[39m]\n",
      "File \u001b[0;32m~/envs/urano/lib/python3.8/site-packages/torchtext/vocab/vectors.py:203\u001b[0m, in \u001b[0;36mVectors.get_vecs_by_tokens\u001b[0;34m(self, tokens, lower_case_backup)\u001b[0m\n\u001b[1;32m    201\u001b[0m     indices \u001b[39m=\u001b[39m [\u001b[39mself\u001b[39m[token] \u001b[39mfor\u001b[39;00m token \u001b[39min\u001b[39;00m tokens]\n\u001b[1;32m    202\u001b[0m \u001b[39melse\u001b[39;00m:\n\u001b[0;32m--> 203\u001b[0m     indices \u001b[39m=\u001b[39m [\u001b[39mself\u001b[39m[token] \u001b[39mif\u001b[39;00m token \u001b[39min\u001b[39;00m \u001b[39mself\u001b[39m\u001b[39m.\u001b[39mstoi \u001b[39melse\u001b[39;00m \u001b[39mself\u001b[39m[token\u001b[39m.\u001b[39mlower()] \u001b[39mfor\u001b[39;00m token \u001b[39min\u001b[39;00m tokens]\n\u001b[1;32m    205\u001b[0m vecs \u001b[39m=\u001b[39m torch\u001b[39m.\u001b[39mstack(indices)\n\u001b[1;32m    206\u001b[0m \u001b[39mreturn\u001b[39;00m vecs[\u001b[39m0\u001b[39m] \u001b[39mif\u001b[39;00m to_reduce \u001b[39melse\u001b[39;00m vecs\n",
      "File \u001b[0;32m~/envs/urano/lib/python3.8/site-packages/torchtext/vocab/vectors.py:203\u001b[0m, in \u001b[0;36m<listcomp>\u001b[0;34m(.0)\u001b[0m\n\u001b[1;32m    201\u001b[0m     indices \u001b[39m=\u001b[39m [\u001b[39mself\u001b[39m[token] \u001b[39mfor\u001b[39;00m token \u001b[39min\u001b[39;00m tokens]\n\u001b[1;32m    202\u001b[0m \u001b[39melse\u001b[39;00m:\n\u001b[0;32m--> 203\u001b[0m     indices \u001b[39m=\u001b[39m [\u001b[39mself\u001b[39;49m[token] \u001b[39mif\u001b[39;00m token \u001b[39min\u001b[39;00m \u001b[39mself\u001b[39m\u001b[39m.\u001b[39mstoi \u001b[39melse\u001b[39;00m \u001b[39mself\u001b[39m[token\u001b[39m.\u001b[39mlower()] \u001b[39mfor\u001b[39;00m token \u001b[39min\u001b[39;00m tokens]\n\u001b[1;32m    205\u001b[0m vecs \u001b[39m=\u001b[39m torch\u001b[39m.\u001b[39mstack(indices)\n\u001b[1;32m    206\u001b[0m \u001b[39mreturn\u001b[39;00m vecs[\u001b[39m0\u001b[39m] \u001b[39mif\u001b[39;00m to_reduce \u001b[39melse\u001b[39;00m vecs\n",
      "File \u001b[0;32m~/envs/urano/lib/python3.8/site-packages/torchtext/vocab/vectors.py:63\u001b[0m, in \u001b[0;36mVectors.__getitem__\u001b[0;34m(self, token)\u001b[0m\n\u001b[1;32m     61\u001b[0m \u001b[39mdef\u001b[39;00m \u001b[39m__getitem__\u001b[39m(\u001b[39mself\u001b[39m, token):\n\u001b[1;32m     62\u001b[0m     \u001b[39mif\u001b[39;00m token \u001b[39min\u001b[39;00m \u001b[39mself\u001b[39m\u001b[39m.\u001b[39mstoi:\n\u001b[0;32m---> 63\u001b[0m         \u001b[39mreturn\u001b[39;00m \u001b[39mself\u001b[39;49m\u001b[39m.\u001b[39;49mvectors[\u001b[39mself\u001b[39;49m\u001b[39m.\u001b[39;49mstoi[token]]\n\u001b[1;32m     64\u001b[0m     \u001b[39melse\u001b[39;00m:\n\u001b[1;32m     65\u001b[0m         \u001b[39mreturn\u001b[39;00m \u001b[39mself\u001b[39m\u001b[39m.\u001b[39munk_init(torch\u001b[39m.\u001b[39mTensor(\u001b[39mself\u001b[39m\u001b[39m.\u001b[39mdim))\n",
      "\u001b[0;31mKeyboardInterrupt\u001b[0m: "
     ]
    }
   ],
   "source": [
    "loss = torch.nn.CrossEntropyLoss()\n",
    "model = Model().to(device)\n",
    "optimizer = torch.optim.AdamW(model.parameters(), lr=1e-3)\n",
    "\n",
    "for epoch in range(30):\n",
    "    \n",
    "    train_losses = []\n",
    "    train_accuracies = []\n",
    "    val_losses = []\n",
    "    val_accuracies = []\n",
    "    \n",
    "    model.train()\n",
    "    \n",
    "    for texts, labels in train_dataloader:\n",
    "        texts = texts.to(device)\n",
    "        labels = labels.to(device)\n",
    "        \n",
    "        outputs = model(texts)\n",
    "        loss_value = loss(outputs, labels)\n",
    "        \n",
    "        optimizer.zero_grad()\n",
    "        loss_value.backward()\n",
    "        optimizer.step()\n",
    "        \n",
    "        train_losses.append(loss_value.item())\n",
    "        train_accuracies.append(accuracy(outputs, labels))\n",
    "        \n",
    "    model.eval()\n",
    "    with torch.no_grad():\n",
    "        \n",
    "        for texts, labels in val_dataloader:\n",
    "            texts = texts.to(device)\n",
    "            labels = labels.to(device)\n",
    "            \n",
    "            outputs = model(texts)\n",
    "            loss_value = loss(outputs, labels)\n",
    "            \n",
    "            val_losses.append(loss_value.item())\n",
    "            val_accuracies.append(accuracy(outputs, labels))\n",
    "            \n",
    "    print(f'train loss: {np.mean(train_losses)}')\n",
    "    print(f'val loss: {np.mean(val_losses)}')\n",
    "    print(f'train accuracy: {np.mean(train_accuracies)}')\n",
    "    print(f'val accuracy: {np.mean(val_accuracies)}')\n",
    "        "
   ]
  },
  {
   "cell_type": "code",
   "execution_count": 70,
   "metadata": {},
   "outputs": [],
   "source": [
    "import sklearn\n",
    "class_weights=sklearn.utils.class_weight.compute_class_weight('balanced',classes=np.unique(y), y=y)\n",
    "class_weights=torch.tensor(class_weights,dtype=torch.float)"
   ]
  },
  {
   "cell_type": "code",
   "execution_count": null,
   "metadata": {},
   "outputs": [],
   "source": []
  }
 ],
 "metadata": {
  "kernelspec": {
   "display_name": "Python 3",
   "language": "python",
   "name": "python3"
  },
  "language_info": {
   "codemirror_mode": {
    "name": "ipython",
    "version": 3
   },
   "file_extension": ".py",
   "mimetype": "text/x-python",
   "name": "python",
   "nbconvert_exporter": "python",
   "pygments_lexer": "ipython3",
   "version": "3.10.7 (main, Sep 14 2022, 22:38:23) [Clang 14.0.0 (clang-1400.0.29.102)]"
  },
  "orig_nbformat": 4,
  "vscode": {
   "interpreter": {
    "hash": "b0fa6594d8f4cbf19f97940f81e996739fb7646882a419484c72d19e05852a7e"
   }
  }
 },
 "nbformat": 4,
 "nbformat_minor": 2
}
